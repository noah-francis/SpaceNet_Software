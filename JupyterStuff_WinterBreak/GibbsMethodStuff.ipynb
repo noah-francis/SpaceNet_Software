{
 "cells": [
  {
   "cell_type": "markdown",
   "metadata": {},
   "source": [
    "##### 10/15/20:\n",
    "Created by Noah Francis"
   ]
  },
  {
   "cell_type": "markdown",
   "metadata": {},
   "source": [
    "### Parser Function"
   ]
  },
  {
   "cell_type": "code",
   "execution_count": null,
   "metadata": {},
   "outputs": [],
   "source": [
    "import numpy\n",
    "from numpy import array\n",
    "from datetime import datetime, timezone\n",
    "\n",
    "# read STK file (rough probably)\n",
    "def read_STK(filename):\n",
    "    '''Read and parse an STK ECEF satellite position file (assumes data directory)\n",
    "    ----------------------------------------------------------------------------\n",
    "    Inputs:\n",
    "    --------\n",
    "    `filename` -- string with the file name\n",
    "    \n",
    "    Returns:\n",
    "    --------\n",
    "    `data` -- dictionary containing the STK file info\n",
    "    '''\n",
    "\n",
    "    data_dir = '/Users/rockm/Documents/CU_Boulder/ASEN_4018/Software/'\n",
    "    \n",
    "    # create dictionary\n",
    "    data = {\n",
    "        'Time': [],\n",
    "        'r_vec': [],\n",
    "        'r_mag': [],\n",
    "    }\n",
    "    \n",
    "    # month dictionary\n",
    "    month = {\n",
    "    'Jan': 1,\n",
    "    'Feb': 2,\n",
    "    'Mar': 3,\n",
    "    'Apr': 4,\n",
    "    'May': 5,\n",
    "    'Jun': 6,\n",
    "    'Jul': 7,\n",
    "    'Aug': 8,\n",
    "    'Sep': 9,\n",
    "    'Oct': 10,\n",
    "    'Nov': 11,\n",
    "    'Dec': 12\n",
    "    }\n",
    "    \n",
    "    # parse data\n",
    "    with open(data_dir + filename, 'r') as file:\n",
    "        lines = list(file.readlines())\n",
    "    for i, line in enumerate(lines):\n",
    "        if (i >= 7):\n",
    "            Line = line.split()\n",
    "\n",
    "            # Time stuff\n",
    "            year = int(Line[2])\n",
    "            day = int(Line[0])\n",
    "            hour = int(Line[3][0:2])\n",
    "            minute = int(Line[3][3:5])\n",
    "            # can add seconds here once we start caring about them\n",
    "\n",
    "            # Space stuff\n",
    "            x = float(Line[4]) \n",
    "            y = float(Line[5])\n",
    "            z = float(Line[6])\n",
    "            r_vec = array([x, y, z])\n",
    "            r_mag = float(Line[7]) # magnitude of position vector\n",
    "\n",
    "            # append Time and Space to the data dictionary's lists\n",
    "            data['Time'].append(datetime(year, month[Line[1]], day, hour, minute, tzinfo=timezone.utc))\n",
    "            data['r_vec'].append(r_vec)\n",
    "            data['r_mag'].append(r_mag)\n",
    "    data['r_vec'] = array(data['r_vec'])\n",
    "    \n",
    "    return data"
   ]
  },
  {
   "cell_type": "markdown",
   "metadata": {},
   "source": [
    "#### Parser Scratch Work "
   ]
  },
  {
   "cell_type": "code",
   "execution_count": null,
   "metadata": {
    "jupyter": {
     "source_hidden": true
    }
   },
   "outputs": [],
   "source": [
    "# data = {\n",
    "#     'Time': [],\n",
    "#     'x': [],\n",
    "#     'y': [],\n",
    "#     'z': [],\n",
    "#     'r': [],\n",
    "# } \n",
    "# data.keys()\n",
    "\n",
    "month = {\n",
    "    'Jan': 1,\n",
    "    'Feb': 2,\n",
    "    'Mar': 3,\n",
    "    'Apr': 4,\n",
    "    'May': 5,\n",
    "    'Jun': 6,\n",
    "    'Jul': 7,\n",
    "    'Aug': 8,\n",
    "    'Sep': 9,\n",
    "    'Oct': 10,\n",
    "    'Nov': 11,\n",
    "    'Dec': 12\n",
    "}"
   ]
  },
  {
   "cell_type": "code",
   "execution_count": null,
   "metadata": {
    "jupyter": {
     "source_hidden": true
    }
   },
   "outputs": [],
   "source": [
    "data_dir = '/Users/rockm/Documents/CU_Boulder/ASEN_4018/Software/'\n",
    "filename = 'CSIM_ECEF_Position.txt'\n",
    "\n",
    "# create dictionary\n",
    "data = {\n",
    "    'Time': [],\n",
    "    'r_vec': [],\n",
    "    'r_mag': [],\n",
    "}\n",
    "\n",
    "with open(data_dir + filename, 'r') as file:\n",
    "    lines = list(file.readlines())\n",
    "for i, line in enumerate(lines):\n",
    "    if (i >= 7):\n",
    "        Line = line.split()\n",
    "        \n",
    "        # Time stuff\n",
    "        year = int(Line[2])\n",
    "        day = int(Line[0])\n",
    "        hour = int(Line[3][0:2])\n",
    "        minute = int(Line[3][3:5])\n",
    "        # could add seconds here somehow\n",
    "        \n",
    "        # Space stuff\n",
    "        x = float(Line[4]) \n",
    "        y = float(Line[5])\n",
    "        z = float(Line[6])\n",
    "        r_vec = [x, y, z]\n",
    "        r_mag = float(Line[7]) # magnitude of position vector\n",
    "\n",
    "        # append Time and Space to the data dictionary's lists\n",
    "        data['Time'].append(datetime(year, month[Line[1]], day, hour, minute))\n",
    "        data['r_vec'].append(r_vec)\n",
    "        data['r_mag'].append(r_mag)"
   ]
  },
  {
   "cell_type": "code",
   "execution_count": 4,
   "metadata": {
    "jupyter": {
     "source_hidden": true
    }
   },
   "outputs": [],
   "source": [
    "Line = lines[258].split()\n",
    "year = int(Line[2])\n",
    "day = int(Line[0])\n",
    "hour = int(Line[3][0:2])\n",
    "minute = int(Line[3][3:5])\n",
    "# second = float(Line[3][6:12])\n",
    "print(Line)\n",
    "# print(hour, minute, second\n",
    "datetime(year, month[Line[1]], day, hour, minute) \n",
    "# map(float, Line[3])"
   ]
  },
  {
   "cell_type": "markdown",
   "metadata": {},
   "source": [
    "### Gibb's Method Function"
   ]
  },
  {
   "cell_type": "code",
   "execution_count": 5,
   "metadata": {},
   "outputs": [],
   "source": [
    "import numpy\n",
    "from numpy import array, cross, dot, sqrt\n",
    "from numpy.linalg import norm\n",
    "\n",
    "# Gibb's Method \n",
    "def Gibby(r_vec, r_mag, mu):\n",
    "    '''Use Gibb's Method to produce a velocity vector from three consecutive\n",
    "    position vectors.\n",
    "    ----------------------------------------------------------------------------\n",
    "    Inputs:\n",
    "    --------\n",
    "    `r_vec` -- numpy array of three consecutive (in time) position vectors (3,3) [km]\n",
    "    `r_mag` -- list of corresponding vector magnitudes [km]\n",
    "    `mu`    -- Standard Gravitational Parameter of the central body [km**3 / s**2]\n",
    "    \n",
    "    Returns:\n",
    "    --------\n",
    "    `v_vec`        -- velocity vector (numpy array) at the second position vector's \n",
    "                      time (1,3) [km/s]\n",
    "    `coplanar_val` -- dot product of unit vectors that should be coplanar for Gibb's\n",
    "                      Method to work properly [~] (closer to zero is better)\n",
    "    '''\n",
    "    \n",
    "    # compute unit vectors\n",
    "    C_01 = cross(r_vec[0], r_vec[1]) / norm(cross(r_vec[0], r_vec[1]))\n",
    "    C_12 = cross(r_vec[1], r_vec[2]) / norm(cross(r_vec[1], r_vec[2]))\n",
    "    C_20 = cross(r_vec[2], r_vec[0]) / norm(cross(r_vec[2], r_vec[0]))\n",
    "    \n",
    "    # check how coplanar the position vectors are\n",
    "    coplanar_val = dot((r_vec[0] / r_mag[0]), C_12)\n",
    "    \n",
    "    # calculate N, D, and S\n",
    "    N = r_mag[0] * cross(r_vec[1], r_vec[2]) + r_mag[1] * cross(r_vec[2], r_vec[0]) + r_mag[2] * cross(r_vec[0], r_vec[1])\n",
    "    D = cross(r_vec[0], r_vec[1]) + cross(r_vec[1], r_vec[2]) + cross(r_vec[2], r_vec[0])\n",
    "    S = r_vec[0] * (r_mag[1] - r_mag[2]) + r_vec[1] * (r_mag[2] - r_mag[0]) + r_vec[2] * (r_mag[0] - r_mag[1])\n",
    "    \n",
    "    # calculate velocity vector at second position vector\n",
    "    v_vec = sqrt(mu / (norm(N) * norm(D))) * ((cross(D, r_vec[1]) / r_mag[1]) + S)\n",
    "    \n",
    "    return v_vec, coplanar_val"
   ]
  },
  {
   "cell_type": "markdown",
   "metadata": {},
   "source": [
    "#### Gibb's Method Scratch Work"
   ]
  },
  {
   "cell_type": "code",
   "execution_count": 6,
   "metadata": {
    "collapsed": true,
    "jupyter": {
     "outputs_hidden": true,
     "source_hidden": true
    }
   },
   "outputs": [
    {
     "name": "stdout",
     "output_type": "stream",
     "text": [
      "5.0990195135927845\n"
     ]
    }
   ],
   "source": [
    "from numpy import cross, array\n",
    "\n",
    "a = [1,1,1]\n",
    "b = [5,1,2]\n",
    "c = norm(cross(a,b))\n",
    "print(c)"
   ]
  },
  {
   "cell_type": "code",
   "execution_count": 7,
   "metadata": {
    "collapsed": true,
    "jupyter": {
     "outputs_hidden": true,
     "source_hidden": true
    }
   },
   "outputs": [
    {
     "data": {
      "text/plain": [
       "[1.0, 2.0, 3.0]"
      ]
     },
     "execution_count": 7,
     "metadata": {},
     "output_type": "execute_result"
    }
   ],
   "source": [
    "a = [2, 4, 6]\n",
    "[n / 2 for n in a]"
   ]
  },
  {
   "cell_type": "code",
   "execution_count": 8,
   "metadata": {
    "collapsed": true,
    "jupyter": {
     "outputs_hidden": true,
     "source_hidden": true
    }
   },
   "outputs": [
    {
     "data": {
      "text/plain": [
       "[array([2, 3, 4]), array([2, 2, 2]), array([1, 2, 5])]"
      ]
     },
     "execution_count": 8,
     "metadata": {},
     "output_type": "execute_result"
    }
   ],
   "source": [
    "[array([2,3,4]), array([2,2,2]), array([1,2,5])]"
   ]
  },
  {
   "cell_type": "code",
   "execution_count": 9,
   "metadata": {
    "collapsed": true,
    "jupyter": {
     "outputs_hidden": true,
     "source_hidden": true
    }
   },
   "outputs": [
    {
     "data": {
      "text/plain": [
       "[0, 2, 4]"
      ]
     },
     "execution_count": 9,
     "metadata": {},
     "output_type": "execute_result"
    }
   ],
   "source": [
    "a = [0,1,2,3,4,5,6,7,8,9]\n",
    "a[:6:2]"
   ]
  },
  {
   "cell_type": "markdown",
   "metadata": {},
   "source": [
    "### Call Functions"
   ]
  },
  {
   "cell_type": "code",
   "execution_count": 2,
   "metadata": {},
   "outputs": [
    {
     "ename": "NameError",
     "evalue": "name 'read_STK' is not defined",
     "output_type": "error",
     "traceback": [
      "\u001b[1;31m---------------------------------------------------------------------------\u001b[0m",
      "\u001b[1;31mNameError\u001b[0m                                 Traceback (most recent call last)",
      "\u001b[1;32m<ipython-input-2-22866e279a89>\u001b[0m in \u001b[0;36m<module>\u001b[1;34m\u001b[0m\n\u001b[0;32m      6\u001b[0m \u001b[1;33m\u001b[0m\u001b[0m\n\u001b[0;32m      7\u001b[0m \u001b[1;31m# parse STK text file data\u001b[0m\u001b[1;33m\u001b[0m\u001b[1;33m\u001b[0m\u001b[1;33m\u001b[0m\u001b[0m\n\u001b[1;32m----> 8\u001b[1;33m \u001b[0mdata\u001b[0m \u001b[1;33m=\u001b[0m \u001b[0mread_STK\u001b[0m\u001b[1;33m(\u001b[0m\u001b[1;34m'CSIM_ECEF_Position.txt'\u001b[0m\u001b[1;33m)\u001b[0m\u001b[1;33m\u001b[0m\u001b[1;33m\u001b[0m\u001b[0m\n\u001b[0m\u001b[0;32m      9\u001b[0m \u001b[1;33m\u001b[0m\u001b[0m\n\u001b[0;32m     10\u001b[0m \u001b[1;31m# data['r_vec'] = ecef2eci(data['r_vec'], data['Time'])\u001b[0m\u001b[1;33m\u001b[0m\u001b[1;33m\u001b[0m\u001b[1;33m\u001b[0m\u001b[0m\n",
      "\u001b[1;31mNameError\u001b[0m: name 'read_STK' is not defined"
     ]
    }
   ],
   "source": [
    "from utilities.useful_functions import ecef2eci\n",
    "\n",
    "# Standard Gravitational Parameter of Earth\n",
    "# mu_E = 3.986004418e14 #[m**3 / s**2]\n",
    "mu_E = 398600.4418 #[km**3 / s**2]\n",
    "\n",
    "# parse STK text file data\n",
    "data = read_STK('CSIM_ECEF_Position.txt')\n",
    "\n",
    "# data['r_vec'] = ecef2eci(data['r_vec'], data['Time'])\n",
    "data['r_mag'] = norm(data['r_vec'], axis=1)\n",
    "\n",
    "# use Gibb's method\n",
    "V, Fred = Gibby(data['r_vec'][0:12000:4000], data['r_mag'][0:12000:4000], mu_E) \n",
    "print('Orbital Speed:', norm(V), '[km/s]')\n",
    "print('Coplanar Value:', Fred)"
   ]
  },
  {
   "cell_type": "code",
   "execution_count": null,
   "metadata": {},
   "outputs": [],
   "source": []
  },
  {
   "cell_type": "code",
   "execution_count": null,
   "metadata": {},
   "outputs": [],
   "source": []
  },
  {
   "cell_type": "code",
   "execution_count": null,
   "metadata": {},
   "outputs": [],
   "source": []
  },
  {
   "cell_type": "code",
   "execution_count": null,
   "metadata": {},
   "outputs": [],
   "source": []
  },
  {
   "cell_type": "code",
   "execution_count": null,
   "metadata": {},
   "outputs": [],
   "source": []
  },
  {
   "cell_type": "markdown",
   "metadata": {},
   "source": [
    "## SpaceNet Matlab Application\n",
    "---\n",
    "Matlab app development for CU Boulder Aerospace Engineering Senior Projects Team SpaceNet. \n",
    "\n",
    "#### **TLE_DATA_V_1_1.mlapp**\n",
    "Version 1.1 of the TLE Data app\n",
    "\n",
    "#### **TLE_DATA_V_3_1.mlapp**\n",
    "New format includes TLE comparison tab\n",
    "\n",
    "#### **TLE_DATA_V_3_2.mlapp**\n",
    "Gibb's method and orbital element calculation functions implemented\n",
    "\n"
   ]
  },
  {
   "cell_type": "code",
   "execution_count": 1,
   "metadata": {},
   "outputs": [],
   "source": [
    "from numpy import linspace\n"
   ]
  },
  {
   "cell_type": "code",
   "execution_count": 8,
   "metadata": {},
   "outputs": [
    {
     "data": {
      "text/plain": [
       "array([ 50.        ,  65.51724138,  81.03448276,  96.55172414,\n",
       "       112.06896552, 127.5862069 , 143.10344828, 158.62068966,\n",
       "       174.13793103, 189.65517241, 205.17241379, 220.68965517,\n",
       "       236.20689655, 251.72413793, 267.24137931, 282.75862069,\n",
       "       298.27586207, 313.79310345, 329.31034483, 344.82758621,\n",
       "       360.34482759, 375.86206897, 391.37931034, 406.89655172,\n",
       "       422.4137931 , 437.93103448, 453.44827586, 468.96551724,\n",
       "       484.48275862, 500.        ])"
      ]
     },
     "execution_count": 8,
     "metadata": {},
     "output_type": "execute_result"
    }
   ],
   "source": [
    "linspace(50,500,num=30)"
   ]
  },
  {
   "cell_type": "code",
   "execution_count": null,
   "metadata": {},
   "outputs": [],
   "source": []
  }
 ],
 "metadata": {
  "kernelspec": {
   "display_name": "Python 3",
   "language": "python",
   "name": "python3"
  },
  "language_info": {
   "codemirror_mode": {
    "name": "ipython",
    "version": 3
   },
   "file_extension": ".py",
   "mimetype": "text/x-python",
   "name": "python",
   "nbconvert_exporter": "python",
   "pygments_lexer": "ipython3",
   "version": "3.7.6"
  }
 },
 "nbformat": 4,
 "nbformat_minor": 4
}
